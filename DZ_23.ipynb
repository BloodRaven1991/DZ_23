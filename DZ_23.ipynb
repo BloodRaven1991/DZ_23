{
 "cells": [
  {
   "cell_type": "markdown",
   "metadata": {},
   "source": [
    "Задание 1: Декораторы\n",
    "Создайте декоратор timer, который измеряет время выполнения функции.\n",
    "Декоратор должен выводить время, затраченное на выполнение функции."
   ]
  },
  {
   "cell_type": "code",
   "execution_count": 1,
   "metadata": {},
   "outputs": [
    {
     "name": "stdout",
     "output_type": "stream",
     "text": [
      "Время выполнения функции 'example_function': 0.037899 секунд\n",
      "Результат функции: 499999500000\n"
     ]
    }
   ],
   "source": [
    "import time\n",
    "\n",
    "def timer(func):\n",
    "    def wrapper(*args, **kwargs):\n",
    "        start_time = time.time()\n",
    "        result = func(*args, **kwargs)\n",
    "        end_time = time.time()\n",
    "        elapsed_time = end_time - start_time\n",
    "        print(f\"Время выполнения функции '{func.__name__}': {elapsed_time:.6f} секунд\")\n",
    "        return result\n",
    "    return wrapper\n",
    "\n",
    "\n",
    "@timer\n",
    "def example_function(n):\n",
    "    total = 0\n",
    "    for i in range(n):\n",
    "        total += i\n",
    "    return total\n",
    "\n",
    "\n",
    "result = example_function(1000000)\n",
    "print(f\"Результат функции: {result}\")"
   ]
  },
  {
   "cell_type": "markdown",
   "metadata": {},
   "source": [
    "Задание 2: Создайте декоратор retry, который повторяет выполнение функции\n",
    "в случае возникновения исключения.\n",
    "Декоратор должен принимать параметр max_retries, который указывает\n",
    "максимальное количество попыток.\n",
    "Если после max_retries попыток функция не выполнится успешно,\n",
    "декоратор должен выбросить исключение."
   ]
  },
  {
   "cell_type": "code",
   "execution_count": 2,
   "metadata": {},
   "outputs": [
    {
     "name": "stdout",
     "output_type": "stream",
     "text": [
      "Попытка 1 не удалась: Ошибка выполнения функции\n",
      "Попытка 2 не удалась: Ошибка выполнения функции\n",
      "Попытка 3 не удалась: Ошибка выполнения функции\n",
      "Функция завершилась с ошибкой: Ошибка выполнения функции\n"
     ]
    }
   ],
   "source": [
    "def retry(max_retries):\n",
    "    def decorator(func):\n",
    "        def wrapper(*args, **kwargs):\n",
    "            attempts = 0\n",
    "            while attempts < max_retries:\n",
    "                try:\n",
    "                    return func(*args, **kwargs)\n",
    "                except Exception as e:\n",
    "                    attempts += 1\n",
    "                    print(f\"Попытка {attempts} не удалась: {e}\")\n",
    "                    if attempts == max_retries:\n",
    "                        raise\n",
    "        return wrapper\n",
    "    return decorator\n",
    "\n",
    "\n",
    "@retry(max_retries=3)\n",
    "def unstable_function():\n",
    "    import random\n",
    "    if random.random() < 0.7:\n",
    "        raise ValueError(\"Ошибка выполнения функции\")\n",
    "    return \"Успех!\"\n",
    "\n",
    "\n",
    "try:\n",
    "    result = unstable_function()\n",
    "    print(result)\n",
    "except Exception as e:\n",
    "    print(f\"Функция завершилась с ошибкой: {e}\")"
   ]
  },
  {
   "cell_type": "markdown",
   "metadata": {},
   "source": [
    "Задание 3: Замыкания\n",
    "Создайте функцию counter, которая возвращает функцию,\n",
    "подсчитывающую количество вызовов."
   ]
  },
  {
   "cell_type": "code",
   "execution_count": 3,
   "metadata": {},
   "outputs": [
    {
     "name": "stdout",
     "output_type": "stream",
     "text": [
      "1\n",
      "2\n",
      "3\n"
     ]
    }
   ],
   "source": [
    "def counter():\n",
    "    count = 0\n",
    "\n",
    "    def increment():\n",
    "        nonlocal count\n",
    "        count += 1\n",
    "        return count\n",
    "\n",
    "    return increment\n",
    "\n",
    "\n",
    "count_function = counter()\n",
    "\n",
    "print(count_function())\n",
    "print(count_function())\n",
    "print(count_function())"
   ]
  },
  {
   "cell_type": "markdown",
   "metadata": {},
   "source": [
    "Создайте функцию make_multiplier, которая принимает число и\n",
    "возвращает функцию, умножающую на это число."
   ]
  },
  {
   "cell_type": "code",
   "execution_count": 4,
   "metadata": {},
   "outputs": [
    {
     "name": "stdout",
     "output_type": "stream",
     "text": [
      "10\n",
      "15\n"
     ]
    }
   ],
   "source": [
    "def make_multiplier(multiplier):\n",
    "    def multiply(x):\n",
    "        return x * multiplier\n",
    "    return multiply\n",
    "\n",
    "\n",
    "double = make_multiplier(2)\n",
    "triple = make_multiplier(3)\n",
    "\n",
    "print(double(5))\n",
    "print(triple(5))"
   ]
  }
 ],
 "metadata": {
  "kernelspec": {
   "display_name": "Python 3",
   "language": "python",
   "name": "python3"
  },
  "language_info": {
   "codemirror_mode": {
    "name": "ipython",
    "version": 3
   },
   "file_extension": ".py",
   "mimetype": "text/x-python",
   "name": "python",
   "nbconvert_exporter": "python",
   "pygments_lexer": "ipython3",
   "version": "3.12.7"
  }
 },
 "nbformat": 4,
 "nbformat_minor": 2
}
